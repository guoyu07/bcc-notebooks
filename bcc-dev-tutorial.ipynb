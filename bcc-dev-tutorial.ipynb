{
 "cells": [
  {
   "cell_type": "markdown",
   "metadata": {},
   "source": [
    "## Lesson 0. Preparing\n",
    "\n",
    "First, let's be sure that `bcc` is installed. See https://github.com/iovisor/bcc/blob/master/INSTALL.md if you need help.\n",
    "\n",
    "We also need some helper function in order to run bcc examples in this notebook. Since most bcc examples will run until interrupted (Ctrl-C), we will create a helper function to run them for some time and then exit."
   ]
  },
  {
   "cell_type": "code",
   "execution_count": 1,
   "metadata": {
    "collapsed": true
   },
   "outputs": [],
   "source": [
    "from __future__ import print_function\n",
    "from contextlib import contextmanager\n",
    "import signal\n",
    "\n",
    "import bcc\n",
    "\n",
    "\n",
    "class TimeoutError(Exception):\n",
    "    pass\n",
    "\n",
    "\n",
    "def alarm_handler(signum, frame):\n",
    "    raise TimeoutError()\n",
    "    \n",
    "\n",
    "@contextmanager\n",
    "def timeout(seconds=10):\n",
    "    signal.signal(signal.SIGALRM, alarm_handler)\n",
    "    signal.alarm(seconds)\n",
    "    try:\n",
    "        yield\n",
    "    except TimeoutError:\n",
    "        print('finished after {} seconds'.format(seconds))\n",
    "    finally:\n",
    "        # clear the alarm\n",
    "        signal.alarm(0)"
   ]
  },
  {
   "cell_type": "markdown",
   "metadata": {},
   "source": [
    "### Lesson 1. Hello World\n",
    "\n",
    "Running this BPF program while executing some commands (ls, date, etc.) in another session/connection. It should print \"Hello, World!\" everytime a new process is created."
   ]
  },
  {
   "cell_type": "code",
   "execution_count": 6,
   "metadata": {},
   "outputs": [
    {
     "name": "stdout",
     "output_type": "stream",
     "text": [
      "            bash-1541  [002] d... 24421.486005: : Hello, World!\n",
      "            bash-1541  [002] d... 24423.366914: : Hello, World!\n",
      "finished after 10 seconds\n"
     ]
    }
   ],
   "source": [
    "from bcc import BPF\n",
    "\n",
    "prog = r'''\n",
    "int kprobe__sys_clone(void *ctx) {\n",
    "    bpf_trace_printk(\"Hello, World!\\n\");\n",
    "    return 0;\n",
    "}\n",
    "'''\n",
    "\n",
    "with BPF(text=prog) as b:\n",
    "    with timeout():\n",
    "        b.trace_print()"
   ]
  },
  {
   "cell_type": "markdown",
   "metadata": {},
   "source": [
    "A bcc program is normally a mix of Python and C. The C code is the BPF program and will be compiled and attached to kernel probes to run. The Python code is bcc's helpers and other driver code to parse input arguments, print output, etc.\n",
    "\n",
    "BPF code looks just like normal C source code, with mostly function definitions.\n",
    "`kprobe__` is a special prefix that will attach the defined function to a kernel function, via kprobes. In this case, it will be attached to the `sys_clone()` function in kernel.\n",
    "\n",
    "`bpf_trace_printk` is a [kernel facility](https://github.com/torvalds/linux/blob/510c8a899caf095cb13d09d203573deef15db2fe/kernel/trace/bpf_trace.c#L128) for printing to the common trace_pipe (`/sys/kernel/debug/tracing/trace_pipe`). It can be used for some quick examples but has limitations: 3 args max, only 1 `%s` and the pipe is globally shared, so concurrent programs will clash. A better I/O interface will be covered later.\n",
    "\n",
    "> Side note: system calls are named sys_<something> in kernel source, e.g. sys_clone for clone() system call."
   ]
  },
  {
   "cell_type": "markdown",
   "metadata": {
    "collapsed": true
   },
   "source": [
    "### Lesson 2. sys_sync()"
   ]
  },
  {
   "cell_type": "code",
   "execution_count": null,
   "metadata": {},
   "outputs": [],
   "source": [
    "prog = r'''\n",
    "int kprobe__sys_sync(void *ctx) {\n",
    "    bpf_trace_printk(\"sys_sync() called\\n\");\n",
    "    return 0;\n",
    "}\n",
    "'''\n",
    "\n",
    "with BPF(text=prog) as b:\n",
    "    print('tracing sys_sync()')\n",
    "    with timeout():\n",
    "        b.trace_print()"
   ]
  },
  {
   "cell_type": "markdown",
   "metadata": {},
   "source": [
    "### Lesson 3. hello_fields"
   ]
  },
  {
   "cell_type": "code",
   "execution_count": null,
   "metadata": {},
   "outputs": [],
   "source": [
    "prog = r'''\n",
    "int hello(void *ctx) {\n",
    "    bpf_trace_printk(\"Hello, World!\\n\");\n",
    "    return 0;\n",
    "}\n",
    "'''\n",
    "\n",
    "with BPF(text=prog) as b:\n",
    "    b.attach_kprobe(event='sys_clone', fn_name='hello')\n",
    "    \n",
    "    # header\n",
    "    print('%-18s %-16s %-6s %s' % ('TIME(s)', 'COMM', 'PID', 'MESSAGE'))\n",
    "    \n",
    "    with timeout():\n",
    "        while True:\n",
    "            try:\n",
    "                task, pid, cpu, flags, ts, msg = b.trace_fields()\n",
    "            except ValueError:\n",
    "                pass\n",
    "            else:\n",
    "                print('%-18.9f %-16s %-6d %s' % (ts, task, pid, msg))"
   ]
  },
  {
   "cell_type": "markdown",
   "metadata": {
    "collapsed": true
   },
   "source": [
    "### Lesson 4. sync_timing"
   ]
  },
  {
   "cell_type": "code",
   "execution_count": null,
   "metadata": {},
   "outputs": [],
   "source": [
    "prog = r'''\n",
    "#include <uapi/linux/ptrace.h>\n",
    "#include <linux/blkdev.h>\n",
    "\n",
    "BPF_HASH(last);\n",
    "\n",
    "int do_trace(struct pt_regs *ctx) {\n",
    "    u64 ts, *tsp, delta, key = 0;\n",
    "    \n",
    "    // attempt to read stored timestamp\n",
    "    tsp = last.lookup(&key);\n",
    "    if (tsp != 0) {\n",
    "        delta = bpf_ktime_get_ns() - *tsp;\n",
    "        if (delta < 1000000000) {\n",
    "            // output if time is less than 1 second\n",
    "            bpf_trace_printk(\"%d\\n\", delta / 1000000);\n",
    "        }\n",
    "        last.delete(&key);\n",
    "    }\n",
    "    \n",
    "    // update stored timestamp\n",
    "    ts = bpf_ktime_get_ns();\n",
    "    last.update(&key, &ts);\n",
    "    return 0;\n",
    "}\n",
    "'''\n",
    "\n",
    "with BPF(text=prog) as b:\n",
    "    b.attach_kprobe(event='sys_sync', fn_name='do_trace')\n",
    "    print('Tracing for quick sync\\'...')\n",
    "    \n",
    "    start = 0\n",
    "    with timeout(seconds=20):\n",
    "        while True:\n",
    "            task, pid, cpu, flags, ts, ms = b.trace_fields()\n",
    "            if start == 0:\n",
    "                start = ts\n",
    "            ts = ts - start\n",
    "            print('At time %.2f: s: multiple syncs detected, last %s ms ago' % (ts, ms))"
   ]
  },
  {
   "cell_type": "markdown",
   "metadata": {
    "collapsed": true
   },
   "source": [
    "### Lessson 5. sync_count.py"
   ]
  },
  {
   "cell_type": "code",
   "execution_count": null,
   "metadata": {},
   "outputs": [],
   "source": [
    "prog = r'''\n",
    "#include <uapi/linux/ptrace.h>\n",
    "#include <linux/blkdev.h>\n",
    "\n",
    "BPF_HASH(dict);\n",
    "\n",
    "int do_trace(struct pt_regs *ctx) {\n",
    "    u64 ts, *tsp, ts_key = 0;\n",
    "    u64 count, *countp, count_key = 1;\n",
    "    u64 delta;\n",
    "\n",
    "    // counting calls\n",
    "    countp = dict.lookup(&count_key);\n",
    "    if (countp != 0) {\n",
    "        count = *countp + 1;\n",
    "        dict.delete(&count_key);\n",
    "    } else {\n",
    "        count = 1;\n",
    "    }\n",
    "    dict.update(&count_key, &count);\n",
    "    \n",
    "    // attempt to read stored timestamp\n",
    "    tsp = dict.lookup(&ts_key);\n",
    "    if (tsp != 0) {\n",
    "        delta = bpf_ktime_get_ns() - *tsp;\n",
    "        if (delta < 1000000000) {\n",
    "            // output if time is less than 1 second\n",
    "            bpf_trace_printk(\"%d %d\\n\", delta / 1000000, count);\n",
    "        }\n",
    "        dict.delete(&ts_key);\n",
    "    }\n",
    "    \n",
    "    // update stored timestamp\n",
    "    ts = bpf_ktime_get_ns();\n",
    "    dict.update(&ts_key, &ts);\n",
    "    \n",
    "    return 0;\n",
    "}\n",
    "'''\n",
    "\n",
    "with BPF(text=prog) as b:\n",
    "    b.attach_kprobe(event='sys_sync', fn_name='do_trace')\n",
    "    print('Tracing for quick sync\\'...')\n",
    "    \n",
    "    start = 0\n",
    "    with timeout(seconds=20):\n",
    "        while True:\n",
    "            task, pid, cpu, flags, ts, msg = b.trace_fields()\n",
    "            if start == 0:\n",
    "                start = ts\n",
    "            ts = ts - start\n",
    "            ms, count = msg.split()\n",
    "            print('At time %.2f s: multiple syncs detected, last %s ms ago, total calls: %s' % (ts, ms, count))"
   ]
  },
  {
   "cell_type": "code",
   "execution_count": null,
   "metadata": {
    "collapsed": true
   },
   "outputs": [],
   "source": [
    "REQ_WRITE = 1\n",
    "\n",
    "prog = r'''\n",
    "#include <uapi/linux/ptrace.h>\n",
    "#include <linux/blkdev.h>\n",
    "\n",
    "BPF_HASH(start, struct request *);\n",
    "\n",
    "void trace_start(struct pt_regs *ctx, struct request *req) {\n",
    "    // stash start timestamp by request ptr\n",
    "    u64 ts = bpf_ktime_get_ns();\n",
    "    start.update(&req, &ts);\n",
    "}\n",
    "\n",
    "void trace_completion(struct pt_regs *ctx, struct request *req) {\n",
    "    u64 *tsp, delta;\n",
    "    \n",
    "    tsp = start.lookup(&req);\n",
    "    if (tsp != 0) {\n",
    "        delta = bpf_time_get_ns() - *tsp;\n",
    "        bpf_trace_printk(\"%d %x %d\\n\", req->__data_len, req->cmd_flags\n",
    "    }\n",
    "}\n",
    "'''"
   ]
  }
 ],
 "metadata": {
  "kernelspec": {
   "display_name": "Python 2",
   "language": "python",
   "name": "python2"
  },
  "language_info": {
   "codemirror_mode": {
    "name": "ipython",
    "version": 2
   },
   "file_extension": ".py",
   "mimetype": "text/x-python",
   "name": "python",
   "nbconvert_exporter": "python",
   "pygments_lexer": "ipython2",
   "version": "2.7.12"
  }
 },
 "nbformat": 4,
 "nbformat_minor": 2
}
